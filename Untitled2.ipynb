{
 "cells": [
  {
   "cell_type": "code",
   "execution_count": 1,
   "metadata": {},
   "outputs": [
    {
     "name": "stdout",
     "output_type": "stream",
     "text": [
      "hello world\n"
     ]
    }
   ],
   "source": [
    "#print hello world\n",
    "print(\"hello world\")"
   ]
  },
  {
   "cell_type": "code",
   "execution_count": 2,
   "metadata": {},
   "outputs": [],
   "source": [
    "#Let's create a variable with the name variable and assign it the value \"hello world\".\n",
    "variable = \"hello world\""
   ]
  },
  {
   "cell_type": "code",
   "execution_count": 3,
   "metadata": {},
   "outputs": [
    {
     "data": {
      "text/plain": [
       "str"
      ]
     },
     "execution_count": 3,
     "metadata": {},
     "output_type": "execute_result"
    }
   ],
   "source": [
    "#Print the type of variable\n",
    "type(variable)"
   ]
  },
  {
   "cell_type": "code",
   "execution_count": 4,
   "metadata": {},
   "outputs": [
    {
     "name": "stdout",
     "output_type": "stream",
     "text": [
      "hello\n"
     ]
    }
   ],
   "source": [
    "#Let's remove the word \" world\" from variable\n",
    "variable = variable[0:5]\n",
    "print(variable)"
   ]
  },
  {
   "cell_type": "code",
   "execution_count": 5,
   "metadata": {},
   "outputs": [
    {
     "data": {
      "text/plain": [
       "'1 3 5 7 9 11 13 15 17 19 '"
      ]
     },
     "execution_count": 5,
     "metadata": {},
     "output_type": "execute_result"
    }
   ],
   "source": [
    "#Let's make a function which receives a list of number from 1 to 20 and prints only the number that are odd.\n",
    "def numbersOdd(lista):\n",
    "    lista2 = \"\"\n",
    "    for i in lista:\n",
    "        if(i%2 == 1):\n",
    "            lista2 = lista2 + str(i) + \" \"\n",
    "    return lista2\n",
    "listaNumeros = list(range(1, 21))\n",
    "numbersOdd(listaNumeros)"
   ]
  },
  {
   "cell_type": "code",
   "execution_count": 6,
   "metadata": {},
   "outputs": [
    {
     "data": {
      "text/plain": [
       "'1 8 27 64 125 216 343 512 729 1000 1331 1728 2197 2744 3375 4096 4913 5832 6859 8000 '"
      ]
     },
     "execution_count": 6,
     "metadata": {},
     "output_type": "execute_result"
    }
   ],
   "source": [
    "#Let's make a method in a Python file which receives two parameters:\n",
    "#A list of integers\n",
    "#An exponent number\n",
    "#b^n = b X ... X b\n",
    "#The method allows us to calculate the exponentiation of each number in the list.\n",
    "#We must import the file and use it to call the method\n",
    "def calcularPotenciasList(lista, potencia):\n",
    "    numerox = 1\n",
    "    listasalida = \"\"\n",
    "    for i in range(1, len(listaNumeros) + 1):\n",
    "        numerox = 1\n",
    "        for j in range(potencia):\n",
    "            numerox = numerox * i\n",
    "        listasalida = listasalida + str(numerox) + \" \"\n",
    "    return listasalida\n",
    "calcularPotenciasList(listaNumeros, 3)"
   ]
  },
  {
   "cell_type": "code",
   "execution_count": 7,
   "metadata": {},
   "outputs": [],
   "source": [
    "#The idea is to do a dictionary diccionario with the next keys and values:\n",
    "#variableUno: [1,2,3,4]\n",
    "#variableDos: [\"1\",\"a\",\"?\"]\n",
    "diccionario = {1:\"1\", 2:\"a\", 3:\"?\", 4:\"\"} "
   ]
  },
  {
   "cell_type": "code",
   "execution_count": 8,
   "metadata": {},
   "outputs": [
    {
     "data": {
      "text/plain": [
       "'zpam'"
      ]
     },
     "execution_count": 8,
     "metadata": {},
     "output_type": "execute_result"
    }
   ],
   "source": [
    "#Change the first letter of \"Spam\" to \"z\"\n",
    "\"spam\".replace(\"s\", \"z\")"
   ]
  },
  {
   "cell_type": "code",
   "execution_count": 9,
   "metadata": {},
   "outputs": [
    {
     "data": {
      "text/plain": [
       "14"
      ]
     },
     "execution_count": 9,
     "metadata": {},
     "output_type": "execute_result"
    }
   ],
   "source": [
    "#let's do a program which receives some parameters in order to calculate the perimeter of a rectangle.\n",
    "#p = 2X + 2Y\n",
    "def perimetro(x, y):\n",
    "    return 2*x + 2*y\n",
    "perimetro(4, 3)"
   ]
  },
  {
   "cell_type": "code",
   "execution_count": 10,
   "metadata": {},
   "outputs": [],
   "source": [
    "#Create a class that saves the name of a person, his height in meters and weights in kilograms.\n",
    "#This class must have a operation which calculate the Body mass index (BMI).\n",
    "class Person:\n",
    "    def __init__(self, nombre, altura, peso):\n",
    "        self.nombre = nombre\n",
    "        self.altura = altura\n",
    "        self.peso = peso\n",
    "        \n",
    "    def bmi(self):\n",
    "        return (self.peso/(self.altura*self.altura))"
   ]
  },
  {
   "cell_type": "code",
   "execution_count": 11,
   "metadata": {},
   "outputs": [
    {
     "name": "stdout",
     "output_type": "stream",
     "text": [
      "19.753086419753085\n",
      "20.897959183673468\n",
      "35.55555555555556\n",
      "21.874999999999996\n",
      "22.34351559258195\n"
     ]
    }
   ],
   "source": [
    "#Define a list of 5 persons and print their BMI.\n",
    "beycker = Person(\"Beycker\", 1.80, 64)\n",
    "angie = Person(\"Angie\", 1.75, 64)\n",
    "nicolas = Person(\"Nicolas\", 1.50, 80)\n",
    "triny = Person(\"Triny\", 1.60, 56)\n",
    "paola = Person(\"Paola\", 1.77, 70)\n",
    "listaPersonas = [beycker, angie, nicolas, triny, paola]\n",
    "for i in listaPersonas:\n",
    "    print(i.bmi())"
   ]
  },
  {
   "cell_type": "code",
   "execution_count": 12,
   "metadata": {},
   "outputs": [],
   "source": [
    "#make a program that prints the numbers from 1 to 100 If the number is divisible by 2 then print \"whiz\" if the number is divisible by 3 then print \"bang\"\n",
    "def whizBang():\n",
    "    listaNumerosB = list(range(1, 101))\n",
    "    for i in listaNumerosB:\n",
    "        if(i%2 == 0 and i%3 == 0):\n",
    "            print(str(i) + \": whiz bang\")\n",
    "        elif(i%2 == 0):\n",
    "            print(str(i) + \": whiz\")\n",
    "        elif(i%3 == 0):\n",
    "            print(str(i) + \": bang\")\n",
    "        else:\n",
    "            print(str(i))"
   ]
  },
  {
   "cell_type": "code",
   "execution_count": 13,
   "metadata": {},
   "outputs": [
    {
     "name": "stdout",
     "output_type": "stream",
     "text": [
      "1\n",
      "2: whiz\n",
      "3: bang\n",
      "4: whiz\n",
      "5\n",
      "6: whiz bang\n",
      "7\n",
      "8: whiz\n",
      "9: bang\n",
      "10: whiz\n",
      "11\n",
      "12: whiz bang\n",
      "13\n",
      "14: whiz\n",
      "15: bang\n",
      "16: whiz\n",
      "17\n",
      "18: whiz bang\n",
      "19\n",
      "20: whiz\n",
      "21: bang\n",
      "22: whiz\n",
      "23\n",
      "24: whiz bang\n",
      "25\n",
      "26: whiz\n",
      "27: bang\n",
      "28: whiz\n",
      "29\n",
      "30: whiz bang\n",
      "31\n",
      "32: whiz\n",
      "33: bang\n",
      "34: whiz\n",
      "35\n",
      "36: whiz bang\n",
      "37\n",
      "38: whiz\n",
      "39: bang\n",
      "40: whiz\n",
      "41\n",
      "42: whiz bang\n",
      "43\n",
      "44: whiz\n",
      "45: bang\n",
      "46: whiz\n",
      "47\n",
      "48: whiz bang\n",
      "49\n",
      "50: whiz\n",
      "51: bang\n",
      "52: whiz\n",
      "53\n",
      "54: whiz bang\n",
      "55\n",
      "56: whiz\n",
      "57: bang\n",
      "58: whiz\n",
      "59\n",
      "60: whiz bang\n",
      "61\n",
      "62: whiz\n",
      "63: bang\n",
      "64: whiz\n",
      "65\n",
      "66: whiz bang\n",
      "67\n",
      "68: whiz\n",
      "69: bang\n",
      "70: whiz\n",
      "71\n",
      "72: whiz bang\n",
      "73\n",
      "74: whiz\n",
      "75: bang\n",
      "76: whiz\n",
      "77\n",
      "78: whiz bang\n",
      "79\n",
      "80: whiz\n",
      "81: bang\n",
      "82: whiz\n",
      "83\n",
      "84: whiz bang\n",
      "85\n",
      "86: whiz\n",
      "87: bang\n",
      "88: whiz\n",
      "89\n",
      "90: whiz bang\n",
      "91\n",
      "92: whiz\n",
      "93: bang\n",
      "94: whiz\n",
      "95\n",
      "96: whiz bang\n",
      "97\n",
      "98: whiz\n",
      "99: bang\n",
      "100: whiz\n"
     ]
    }
   ],
   "source": [
    "#print method whizBang\n",
    "whizBang()"
   ]
  }
 ],
 "metadata": {
  "kernelspec": {
   "display_name": "Python 3",
   "language": "python",
   "name": "python3"
  },
  "language_info": {
   "codemirror_mode": {
    "name": "ipython",
    "version": 3
   },
   "file_extension": ".py",
   "mimetype": "text/x-python",
   "name": "python",
   "nbconvert_exporter": "python",
   "pygments_lexer": "ipython3",
   "version": "3.7.3"
  }
 },
 "nbformat": 4,
 "nbformat_minor": 2
}
